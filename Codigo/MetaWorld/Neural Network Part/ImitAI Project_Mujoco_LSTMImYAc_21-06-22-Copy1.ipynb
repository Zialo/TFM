{
 "cells": [
  {
   "cell_type": "code",
   "execution_count": 2,
   "id": "f77905c2",
   "metadata": {},
   "outputs": [],
   "source": [
    "import os\n",
    "os.environ[\"CUDA_DEVICE_ORDER\"]=\"PCI_BUS_ID\"  \n",
    "os.environ[\"CUDA_VISIBLE_DEVICES\"]=\"1\""
   ]
  },
  {
   "cell_type": "code",
   "execution_count": 3,
   "id": "8ec38c49",
   "metadata": {},
   "outputs": [],
   "source": [
    "import time\n",
    "import ignite\n",
    "import numpy as np\n",
    "import sklearn.metrics\n",
    "from sklearn.preprocessing import MinMaxScaler\n",
    "import torch\n",
    "from torch import nn\n",
    "from torch import optim\n",
    "from torch.utils.data import Dataset, DataLoader\n",
    "from torchvision import models\n",
    "from torchvision import transforms\n",
    "from typing import List, Callable\n",
    "import pickle\n",
    "import tqdm\n",
    "import pytorch_lightning as pl\n",
    "import torchmetrics\n",
    "import os.path\n",
    "import cv2\n",
    "import csv\n",
    "import pandas as pd\n",
    "#from google.colab import drive\n",
    "#from google.colab.patches import cv2_imshow\n",
    "import fnmatch\n",
    "from math import sqrt\n",
    "from PIL import Image\n",
    "import joblib\n",
    "from torch_lr_finder import LRFinder\n",
    "from pytorch_lightning.callbacks import Callback\n",
    "from pytorch_lightning.loggers import TensorBoardLogger\n",
    "import tensorflow as tf\n",
    "from matplotlib import pyplot as plt\n",
    "from datetime import datetime"
   ]
  },
  {
   "cell_type": "code",
   "execution_count": 4,
   "id": "22fe0c0a",
   "metadata": {},
   "outputs": [
    {
     "name": "stdout",
     "output_type": "stream",
     "text": [
      "True\n",
      "1.8.1+cu101\n"
     ]
    }
   ],
   "source": [
    "print(torch.cuda.is_available())\n",
    "print(torch.__version__)"
   ]
  },
  {
   "cell_type": "markdown",
   "id": "6c53df23",
   "metadata": {},
   "source": [
    "## Parameters"
   ]
  },
  {
   "cell_type": "code",
   "execution_count": 5,
   "id": "bd7b1b9f",
   "metadata": {},
   "outputs": [],
   "source": [
    "BATCH_SIZE = 32\n",
    "EPOCHS = 20\n",
    "LR = 1e-4\n",
    "WD = 1e-4"
   ]
  },
  {
   "cell_type": "markdown",
   "id": "266faa7f",
   "metadata": {},
   "source": [
    "## Data Classes"
   ]
  },
  {
   "cell_type": "code",
   "execution_count": 6,
   "id": "cdcce9e3",
   "metadata": {},
   "outputs": [
    {
     "name": "stdout",
     "output_type": "stream",
     "text": [
      "/home/hodei.zia/ImitAI Project\n",
      "['2000 pruebas', '2000_Pruebas', 'MuJoCo_Dataset', 'Dataset_Mujoco', 'MuJoCo_100_1']\n"
     ]
    },
    {
     "data": {
      "text/plain": [
       "['Train_dataset',\n",
       " 'Test_dataset',\n",
       " 'MinMax_scaler.save',\n",
       " 'CP',\n",
       " 'CP2',\n",
       " 'resultados.csv',\n",
       " 'model_pytorch_017_LSTMlmYAc_Reg',\n",
       " 'model_pytorch_01796_LSTMlmYAc_Reg',\n",
       " 'model_pytorch_01021_Basico',\n",
       " 'CP3']"
      ]
     },
     "execution_count": 6,
     "metadata": {},
     "output_type": "execute_result"
    }
   ],
   "source": [
    "# Modificamos la carpeta \n",
    "print(os.getcwd())\n",
    "try:\n",
    "    print(os.listdir(\"Pruebas ImitAI\"))\n",
    "    os.chdir(\"Pruebas ImitAI/Dataset_Mujoco/Dataset_Mujoco\")\n",
    "except:\n",
    "    print(os.listdir(\"../../Pruebas ImitAI\"))\n",
    "    os.chdir(\"../../Pruebas ImitAI/Dataset_Mujoco/Dataset_Mujoco\")\n",
    "#os.chdir(\"../Prueba\")\n",
    "os.listdir()"
   ]
  },
  {
   "cell_type": "code",
   "execution_count": 7,
   "id": "8226ca77",
   "metadata": {
    "scrolled": false
   },
   "outputs": [
    {
     "data": {
      "text/plain": [
       "'\\nres = red_merge(\"Train_dataset/\")\\ncv2_imshow(res)'"
      ]
     },
     "execution_count": 7,
     "metadata": {},
     "output_type": "execute_result"
    }
   ],
   "source": [
    "def red_merge(carpeta_imagenes):\n",
    "    \n",
    "    length = len(fnmatch.filter(os.listdir(carpeta_imagenes + \"Top/\"), '*.png'))\n",
    "    path = carpeta_imagenes + \"Top/0.png\"\n",
    "    img = cv2.imread(path,1)\n",
    "    aux = np.zeros(np.shape(img))\n",
    "    \n",
    "    for idx in range(length):\n",
    "        path = carpeta_imagenes + \"Top/\" + str(idx) + \".png\"\n",
    "\n",
    "        #blurring and smoothin\n",
    "        img=cv2.imread(path,1)\n",
    "\n",
    "        hsv = cv2.cvtColor(img,cv2.COLOR_BGR2HSV)\n",
    "        lower_red = np.array([0,50,50])\n",
    "        upper_red = np.array([10,255,255])\n",
    "\n",
    "        mask = cv2.inRange(hsv, lower_red, upper_red)\n",
    "        res = cv2.bitwise_and(img,img, mask= mask)\n",
    "\n",
    "        aux = aux + res\n",
    "    return aux\n",
    "'''\n",
    "res = red_merge(\"Train_dataset/\")\n",
    "cv2_imshow(res)'''"
   ]
  },
  {
   "cell_type": "code",
   "execution_count": 8,
   "id": "45b3cde3",
   "metadata": {},
   "outputs": [
    {
     "data": {
      "text/plain": [
       "'/home/hodei.zia/ImitAI Project/Pruebas ImitAI/Dataset_Mujoco/Dataset_Mujoco'"
      ]
     },
     "execution_count": 8,
     "metadata": {},
     "output_type": "execute_result"
    }
   ],
   "source": [
    "os.getcwd()"
   ]
  },
  {
   "cell_type": "code",
   "execution_count": 9,
   "id": "fe602c72",
   "metadata": {},
   "outputs": [
    {
     "name": "stdout",
     "output_type": "stream",
     "text": [
      "/home/hodei.zia/ImitAI Project/Pruebas ImitAI/Dataset_Mujoco/Dataset_Mujoco\n"
     ]
    },
    {
     "data": {
      "image/png": "[encoded data removed]",
      "text/plain": [
       "<PIL.PngImagePlugin.PngImageFile image mode=RGB size=128x128 at 0x7F6F1045D090>"
      ]
     },
     "metadata": {},
     "output_type": "display_data"
    },
    {
     "name": "stdout",
     "output_type": "stream",
     "text": [
      "CPU times: user 81.1 ms, sys: 22.6 ms, total: 104 ms\n",
      "Wall time: 108 ms\n"
     ]
    }
   ],
   "source": [
    "%%time\n",
    "print(os.getcwd())\n",
    "for i in range(1000):\n",
    "    im = Image.open(\"Test_dataset/Top/\"+str(i)+\".png\")\n",
    "display(im)"
   ]
  },
  {
   "cell_type": "code",
   "execution_count": 10,
   "id": "685b892a",
   "metadata": {},
   "outputs": [
    {
     "name": "stdout",
     "output_type": "stream",
     "text": [
      "/home/hodei.zia/ImitAI Project/Pruebas ImitAI/Dataset_Mujoco/Dataset_Mujoco\n",
      "CPU times: user 874 ms, sys: 57.2 ms, total: 931 ms\n",
      "Wall time: 945 ms\n"
     ]
    }
   ],
   "source": [
    "%%time\n",
    "print(os.getcwd())\n",
    "for i in range(1000):\n",
    "    image = cv2.imread(\"Test_dataset/Top/\"+str(i)+\".png\")\n",
    "    image = cv2.cvtColor(image, cv2.COLOR_BGR2RGB)\n",
    "#cv2_imshow(image)"
   ]
  },
  {
   "cell_type": "markdown",
   "id": "ae2dcbde",
   "metadata": {},
   "source": [
    "### Normalizamos las acciones y obtenemos el array de tamaños"
   ]
  },
  {
   "cell_type": "code",
   "execution_count": 11,
   "id": "8d428d89",
   "metadata": {},
   "outputs": [
    {
     "name": "stdout",
     "output_type": "stream",
     "text": [
      "/home/hodei.zia/ImitAI Project/Pruebas ImitAI/Dataset_Mujoco/Dataset_Mujoco\n",
      "['Train_dataset', 'Test_dataset', 'MinMax_scaler.save', 'CP', 'CP2', 'resultados.csv', 'model_pytorch_017_LSTMlmYAc_Reg', 'model_pytorch_01796_LSTMlmYAc_Reg', 'model_pytorch_01021_Basico', 'CP3']\n"
     ]
    }
   ],
   "source": [
    "print(os.getcwd())\n",
    "print(os.listdir())\n",
    "\n",
    "# Velocities\n",
    "with open('Train_dataset/Train_Actions.csv') as f:\n",
    "    lines = (line for line in f if not line.startswith('#'))\n",
    "    x = np.loadtxt(lines, delimiter=',', skiprows=1)\n",
    "scaler = MinMaxScaler(feature_range=(-1, 1))\n",
    "x_transformed = scaler.fit_transform(x)\n",
    "np.savetxt('Train_dataset/Train_Actions_Normalized.csv',x_transformed , delimiter=',', header=\"X1,X2,X3\")\n",
    "\n",
    "with open('Test_dataset/Test_Actions.csv') as f:\n",
    "    lines = (line for line in f if not line.startswith('#'))\n",
    "    x = np.loadtxt(lines, delimiter=',', skiprows=1)\n",
    "scaler = MinMaxScaler(feature_range=(-1, 1))\n",
    "x_transformed = scaler.fit_transform(x)\n",
    "np.savetxt('Test_dataset/Test_Actions_Normalized.csv',x_transformed , delimiter=',', header=\"X1,X2,X3\")"
   ]
  },
  {
   "cell_type": "code",
   "execution_count": 12,
   "id": "20efac66",
   "metadata": {},
   "outputs": [],
   "source": [
    "scaler_filename = \"MinMax_scaler.save\"\n",
    "scaler_to_save = MinMaxScaler(feature_range=(-1, 1))\n",
    "joblib.dump(scaler_to_save, scaler_filename) \n",
    "scaler_loaded = joblib.load(scaler_filename)"
   ]
  },
  {
   "cell_type": "code",
   "execution_count": 13,
   "id": "3586df82",
   "metadata": {},
   "outputs": [
    {
     "data": {
      "text/plain": [
       "'\\nt_list = [\"Train_dataset\", \"Test_dataset\"]\\nty_list = [\"Top\", \"Corner\", \"Corner2\", \"Corner3\", \"Gripper\", \"BehindGripper\"]\\ncount = 0\\nfor t in t_list:\\n    for ty in ty_list:\\n        f = str(t + \"/\" + ty)\\n        print(f)\\n        for file in os.listdir(f):\\n            f_img = f+\"/\"+file\\n            img = Image.open(f_img)\\n            img = img.resize((128,128))\\n            img.save(f_img)\\n            count += 1\\n            if count % 500 == 0:\\n                print(count)\\n'"
      ]
     },
     "execution_count": 13,
     "metadata": {},
     "output_type": "execute_result"
    }
   ],
   "source": [
    "'''\n",
    "t_list = [\"Train_dataset\", \"Test_dataset\"]\n",
    "ty_list = [\"Top\", \"Corner\", \"Corner2\", \"Corner3\", \"Gripper\", \"BehindGripper\"]\n",
    "count = 0\n",
    "for t in t_list:\n",
    "    for ty in ty_list:\n",
    "        f = str(t + \"/\" + ty)\n",
    "        print(f)\n",
    "        for file in os.listdir(f):\n",
    "            f_img = f+\"/\"+file\n",
    "            img = Image.open(f_img)\n",
    "            img = img.resize((128,128))\n",
    "            img.save(f_img)\n",
    "            count += 1\n",
    "            if count % 500 == 0:\n",
    "                print(count)\n",
    "'''"
   ]
  },
  {
   "cell_type": "code",
   "execution_count": 24,
   "id": "a329fd0d",
   "metadata": {},
   "outputs": [
    {
     "name": "stdout",
     "output_type": "stream",
     "text": [
      "ERROR! Session/line number was not unique in database. History logging moved to new session 870\n"
     ]
    }
   ],
   "source": [
    "# Clases para mas de una imagen\n",
    "\n",
    "class ObsActionGetter(object):\n",
    "    \"\"\"\n",
    "    Generic class that return the image and the action given an index\n",
    "    \"\"\"\n",
    "    def __init__(self, carpeta_imagenes, archivo_acciones):\n",
    "        # TODO: get a list of all image files\n",
    "        self.archivo_acciones = archivo_acciones\n",
    "        self.carpeta_imagenes = carpeta_imagenes\n",
    "        path, dirs, files = next(os.walk(self.carpeta_imagenes))\n",
    "        self.image_files = list(range(len(files)))\n",
    "        # TODO: get all made actions\n",
    "        self.actions = []\n",
    "        \n",
    "    def __len__(self):\n",
    "        return len(fnmatch.filter(os.listdir(self.carpeta_imagenes + \"Top/\"), '*.png'))\n",
    "        \n",
    "    def __getitem__(self, idx):\n",
    "        path_1 = self.carpeta_imagenes + \"Top/\" + str(idx) + \".png\"\n",
    "        path_2 = self.carpeta_imagenes + \"Corner/\" + str(idx) + \".png\"\n",
    "        path_3 = self.carpeta_imagenes + \"Corner2/\" + str(idx) + \".png\"\n",
    "        path_4 = self.carpeta_imagenes + \"Corner3/\" + str(idx) + \".png\"\n",
    "        path_5 = self.carpeta_imagenes + \"Gripper/\" + str(idx) + \".png\"\n",
    "        path_6 = self.carpeta_imagenes + \"BehindGripper/\" + str(idx) + \".png\"\n",
    "        \n",
    "        im1 = np.array(Image.open(path_1))\n",
    "        im2 = np.array(Image.open(path_2))\n",
    "        im3 = np.array(Image.open(path_3))\n",
    "        im4 = np.array(Image.open(path_4))\n",
    "        im5 = np.array(Image.open(path_5))\n",
    "        im6 = np.array(Image.open(path_6))\n",
    "        \n",
    "        # TODO: get the action\n",
    "        data = pd.read_csv(self.archivo_acciones, header = None)\n",
    "        action = np.float32(np.array(data.iloc[idx]))\n",
    "        \n",
    "        if (idx % 25 == 0):\n",
    "            \n",
    "            action_prev_1 = np.array([0,0,0,0], dtype=\"float32\")\n",
    "            action_prev_2 = np.array([0,0,0,0], dtype=\"float32\")\n",
    "            action_prev_3 = np.array([0,0,0,0], dtype=\"float32\")\n",
    "            action_prev_4 = np.array([0,0,0,0], dtype=\"float32\")\n",
    "            action_prev_5 = np.array([0,0,0,0], dtype=\"float32\")\n",
    "            \n",
    "            im_t = np.concatenate((im1, im2, im3, im4, im5, im6), axis=2)\n",
    "            im_prev_1 = np.concatenate((im1, im2, im3, im4, im5, im6), axis=2)\n",
    "            im_prev_2 = np.concatenate((im1, im2, im3, im4, im5, im6), axis=2)\n",
    "            im_prev_3 = np.concatenate((im1, im2, im3, im4, im5, im6), axis=2)\n",
    "            im_prev_4 = np.concatenate((im1, im2, im3, im4, im5, im6), axis=2)\n",
    "            im_prev_5 = np.concatenate((im1, im2, im3, im4, im5, im6), axis=2)\n",
    "            \n",
    "        elif ((idx-1) % 25 == 0):\n",
    "            action_prev_1 = np.float32(np.array(data.iloc[idx-1]))\n",
    "            action_prev_2 = np.array([0,0,0,0], dtype=\"float32\")\n",
    "            action_prev_3 = np.array([0,0,0,0], dtype=\"float32\")\n",
    "            action_prev_4 = np.array([0,0,0,0], dtype=\"float32\")\n",
    "            action_prev_5 = np.array([0,0,0,0], dtype=\"float32\")\n",
    "            \n",
    "            im7 = np.array(Image.open(self.carpeta_imagenes + \"Top/\" + str(idx-1) + \".png\"))\n",
    "            im8 = np.array(Image.open(self.carpeta_imagenes + \"Corner/\" + str(idx-1) + \".png\"))\n",
    "            im9 = np.array(Image.open(self.carpeta_imagenes + \"Corner2/\" + str(idx-1) + \".png\"))\n",
    "            im10 = np.array(Image.open(self.carpeta_imagenes + \"Corner3/\" + str(idx-1) + \".png\"))\n",
    "            im11 = np.array(Image.open(self.carpeta_imagenes + \"Gripper/\" + str(idx-1) + \".png\"))\n",
    "            im12 = np.array(Image.open(self.carpeta_imagenes + \"BehindGripper/\" + str(idx-1) + \".png\"))\n",
    "            \n",
    "            im_t = np.concatenate((im1, im2, im3, im4, im5, im6), axis=2)\n",
    "            im_prev_1 = np.concatenate((im7, im8, im9, im10, im11, im12), axis=2)\n",
    "            im_prev_2 = np.concatenate((im7, im8, im9, im10, im11, im12), axis=2)\n",
    "            im_prev_3 = np.concatenate((im7, im8, im9, im10, im11, im12), axis=2)\n",
    "            im_prev_4 = np.concatenate((im7, im8, im9, im10, im11, im12), axis=2)\n",
    "            im_prev_5 = np.concatenate((im7, im8, im9, im10, im11, im12), axis=2)\n",
    "            \n",
    "        elif ((idx-2) % 25 == 0):\n",
    "            action_prev_1 = np.float32(np.array(data.iloc[idx-1]))\n",
    "            action_prev_2 = np.float32(np.array(data.iloc[idx-2]))\n",
    "            action_prev_3 = np.array([0,0,0,0], dtype=\"float32\")\n",
    "            action_prev_4 = np.array([0,0,0,0], dtype=\"float32\")\n",
    "            action_prev_5 = np.array([0,0,0,0], dtype=\"float32\")\n",
    "            \n",
    "            im7 = np.array(Image.open(self.carpeta_imagenes + \"Top/\" + str(idx-1) + \".png\"))\n",
    "            im8 = np.array(Image.open(self.carpeta_imagenes + \"Corner/\" + str(idx-1) + \".png\"))\n",
    "            im9 = np.array(Image.open(self.carpeta_imagenes + \"Corner2/\" + str(idx-1) + \".png\"))\n",
    "            im10 = np.array(Image.open(self.carpeta_imagenes + \"Corner3/\" + str(idx-1) + \".png\"))\n",
    "            im11 = np.array(Image.open(self.carpeta_imagenes + \"Gripper/\" + str(idx-1) + \".png\"))\n",
    "            im12 = np.array(Image.open(self.carpeta_imagenes + \"BehindGripper/\" + str(idx-1) + \".png\"))\n",
    "            \n",
    "            im13 = np.array(Image.open(self.carpeta_imagenes + \"Top/\" + str(idx-2) + \".png\"))\n",
    "            im14 = np.array(Image.open(self.carpeta_imagenes + \"Corner/\" + str(idx-2) + \".png\"))\n",
    "            im15 = np.array(Image.open(self.carpeta_imagenes + \"Corner2/\" + str(idx-2) + \".png\"))\n",
    "            im16 = np.array(Image.open(self.carpeta_imagenes + \"Corner3/\" + str(idx-2) + \".png\"))\n",
    "            im17 = np.array(Image.open(self.carpeta_imagenes + \"Gripper/\" + str(idx-2) + \".png\"))\n",
    "            im18 = np.array(Image.open(self.carpeta_imagenes + \"BehindGripper/\" + str(idx-2) + \".png\"))\n",
    "            \n",
    "            im_t = np.concatenate((im1, im2, im3, im4, im5, im6), axis=2)\n",
    "            im_prev_1 = np.concatenate((im7, im8, im9, im10, im11, im12), axis=2)\n",
    "            im_prev_2 = np.concatenate((im13, im14, im15, im16, im17, im18), axis=2)\n",
    "            im_prev_3 = np.concatenate((im13, im14, im15, im16, im17, im18), axis=2)\n",
    "            im_prev_4 = np.concatenate((im13, im14, im15, im16, im17, im18), axis=2)\n",
    "            im_prev_5 = np.concatenate((im13, im14, im15, im16, im17, im18), axis=2)\n",
    "            \n",
    "        elif ((idx-3) % 25 == 0):\n",
    "            action_prev_1 = np.float32(np.array(data.iloc[idx-1]))\n",
    "            action_prev_2 = np.float32(np.array(data.iloc[idx-2]))\n",
    "            action_prev_3 = np.float32(np.array(data.iloc[idx-3]))\n",
    "            action_prev_4 = np.array([0,0,0,0], dtype=\"float32\")\n",
    "            action_prev_5 = np.array([0,0,0,0], dtype=\"float32\")\n",
    "            \n",
    "            im7 = np.array(Image.open(self.carpeta_imagenes + \"Top/\" + str(idx-1) + \".png\"))\n",
    "            im8 = np.array(Image.open(self.carpeta_imagenes + \"Corner/\" + str(idx-1) + \".png\"))\n",
    "            im9 = np.array(Image.open(self.carpeta_imagenes + \"Corner2/\" + str(idx-1) + \".png\"))\n",
    "            im10 = np.array(Image.open(self.carpeta_imagenes + \"Corner3/\" + str(idx-1) + \".png\"))\n",
    "            im11 = np.array(Image.open(self.carpeta_imagenes + \"Gripper/\" + str(idx-1) + \".png\"))\n",
    "            im12 = np.array(Image.open(self.carpeta_imagenes + \"BehindGripper/\" + str(idx-1) + \".png\"))\n",
    "            \n",
    "            im13 = np.array(Image.open(self.carpeta_imagenes + \"Top/\" + str(idx-2) + \".png\"))\n",
    "            im14 = np.array(Image.open(self.carpeta_imagenes + \"Corner/\" + str(idx-2) + \".png\"))\n",
    "            im15 = np.array(Image.open(self.carpeta_imagenes + \"Corner2/\" + str(idx-2) + \".png\"))\n",
    "            im16 = np.array(Image.open(self.carpeta_imagenes + \"Corner3/\" + str(idx-2) + \".png\"))\n",
    "            im17 = np.array(Image.open(self.carpeta_imagenes + \"Gripper/\" + str(idx-2) + \".png\"))\n",
    "            im18 = np.array(Image.open(self.carpeta_imagenes + \"BehindGripper/\" + str(idx-2) + \".png\"))\n",
    "            \n",
    "            im19 = np.array(Image.open(self.carpeta_imagenes + \"Top/\" + str(idx-3) + \".png\"))\n",
    "            im20 = np.array(Image.open(self.carpeta_imagenes + \"Corner/\" + str(idx-3) + \".png\"))\n",
    "            im21 = np.array(Image.open(self.carpeta_imagenes + \"Corner2/\" + str(idx-3) + \".png\"))\n",
    "            im22 = np.array(Image.open(self.carpeta_imagenes + \"Corner3/\" + str(idx-3) + \".png\"))\n",
    "            im23 = np.array(Image.open(self.carpeta_imagenes + \"Gripper/\" + str(idx-3) + \".png\"))\n",
    "            im24 = np.array(Image.open(self.carpeta_imagenes + \"BehindGripper/\" + str(idx-3) + \".png\"))\n",
    "            \n",
    "            im_t = np.concatenate((im1, im2, im3, im4, im5, im6), axis=2)\n",
    "            im_prev_1 = np.concatenate((im7, im8, im9, im10, im11, im12), axis=2)\n",
    "            im_prev_2 = np.concatenate((im13, im14, im15, im16, im17, im18), axis=2)\n",
    "            im_prev_3 = np.concatenate((im19, im20, im21, im22, im23, im24), axis=2)\n",
    "            im_prev_4 = np.concatenate((im19, im20, im21, im22, im23, im24), axis=2)\n",
    "            im_prev_5 = np.concatenate((im19, im20, im21, im22, im23, im24), axis=2)\n",
    "            \n",
    "        elif ((idx-4) % 25 == 0):\n",
    "            action_prev_1 = np.float32(np.array(data.iloc[idx-1]))\n",
    "            action_prev_2 = np.float32(np.array(data.iloc[idx-2]))\n",
    "            action_prev_3 = np.float32(np.array(data.iloc[idx-3]))\n",
    "            action_prev_4 = np.float32(np.array(data.iloc[idx-4]))\n",
    "            action_prev_5 = np.array([0,0,0,0], dtype=\"float32\")\n",
    "            \n",
    "            im7 = np.array(Image.open(self.carpeta_imagenes + \"Top/\" + str(idx-1) + \".png\"))\n",
    "            im8 = np.array(Image.open(self.carpeta_imagenes + \"Corner/\" + str(idx-1) + \".png\"))\n",
    "            im9 = np.array(Image.open(self.carpeta_imagenes + \"Corner2/\" + str(idx-1) + \".png\"))\n",
    "            im10 = np.array(Image.open(self.carpeta_imagenes + \"Corner3/\" + str(idx-1) + \".png\"))\n",
    "            im11 = np.array(Image.open(self.carpeta_imagenes + \"Gripper/\" + str(idx-1) + \".png\"))\n",
    "            im12 = np.array(Image.open(self.carpeta_imagenes + \"BehindGripper/\" + str(idx-1) + \".png\"))\n",
    "            \n",
    "            im13 = np.array(Image.open(self.carpeta_imagenes + \"Top/\" + str(idx-2) + \".png\"))\n",
    "            im14 = np.array(Image.open(self.carpeta_imagenes + \"Corner/\" + str(idx-2) + \".png\"))\n",
    "            im15 = np.array(Image.open(self.carpeta_imagenes + \"Corner2/\" + str(idx-2) + \".png\"))\n",
    "            im16 = np.array(Image.open(self.carpeta_imagenes + \"Corner3/\" + str(idx-2) + \".png\"))\n",
    "            im17 = np.array(Image.open(self.carpeta_imagenes + \"Gripper/\" + str(idx-2) + \".png\"))\n",
    "            im18 = np.array(Image.open(self.carpeta_imagenes + \"BehindGripper/\" + str(idx-2) + \".png\"))\n",
    "            \n",
    "            im19 = np.array(Image.open(self.carpeta_imagenes + \"Top/\" + str(idx-3) + \".png\"))\n",
    "            im20 = np.array(Image.open(self.carpeta_imagenes + \"Corner/\" + str(idx-3) + \".png\"))\n",
    "            im21 = np.array(Image.open(self.carpeta_imagenes + \"Corner2/\" + str(idx-3) + \".png\"))\n",
    "            im22 = np.array(Image.open(self.carpeta_imagenes + \"Corner3/\" + str(idx-3) + \".png\"))\n",
    "            im23 = np.array(Image.open(self.carpeta_imagenes + \"Gripper/\" + str(idx-3) + \".png\"))\n",
    "            im24 = np.array(Image.open(self.carpeta_imagenes + \"BehindGripper/\" + str(idx-3) + \".png\"))\n",
    "            \n",
    "            im25 = np.array(Image.open(self.carpeta_imagenes + \"Top/\" + str(idx-4) + \".png\"))\n",
    "            im26 = np.array(Image.open(self.carpeta_imagenes + \"Corner/\" + str(idx-4) + \".png\"))\n",
    "            im27 = np.array(Image.open(self.carpeta_imagenes + \"Corner2/\" + str(idx-4) + \".png\"))\n",
    "            im28 = np.array(Image.open(self.carpeta_imagenes + \"Corner3/\" + str(idx-4) + \".png\"))\n",
    "            im29 = np.array(Image.open(self.carpeta_imagenes + \"Gripper/\" + str(idx-4) + \".png\"))\n",
    "            im30 = np.array(Image.open(self.carpeta_imagenes + \"BehindGripper/\" + str(idx-4) + \".png\"))\n",
    "            \n",
    "            im_t = np.concatenate((im1, im2, im3, im4, im5, im6), axis=2)\n",
    "            im_prev_1 = np.concatenate((im7, im8, im9, im10, im11, im12), axis=2)\n",
    "            im_prev_2 = np.concatenate((im13, im14, im15, im16, im17, im18), axis=2)\n",
    "            im_prev_3 = np.concatenate((im19, im20, im21, im22, im23, im24), axis=2)\n",
    "            im_prev_4 = np.concatenate((im25, im26, im27, im28, im29, im30), axis=2)\n",
    "            im_prev_5 = np.concatenate((im25, im26, im27, im28, im29, im30), axis=2)\n",
    "            \n",
    "        else:\n",
    "            action_prev_1 = np.float32(np.array(data.iloc[idx-1]))\n",
    "            action_prev_2 = np.float32(np.array(data.iloc[idx-2]))\n",
    "            action_prev_3 = np.float32(np.array(data.iloc[idx-3]))\n",
    "            action_prev_4 = np.float32(np.array(data.iloc[idx-4]))\n",
    "            action_prev_5 = np.float32(np.array(data.iloc[idx-5]))\n",
    "            \n",
    "            im7 = np.array(Image.open(self.carpeta_imagenes + \"Top/\" + str(idx-1) + \".png\"))\n",
    "            im8 = np.array(Image.open(self.carpeta_imagenes + \"Corner/\" + str(idx-1) + \".png\"))\n",
    "            im9 = np.array(Image.open(self.carpeta_imagenes + \"Corner2/\" + str(idx-1) + \".png\"))\n",
    "            im10 = np.array(Image.open(self.carpeta_imagenes + \"Corner3/\" + str(idx-1) + \".png\"))\n",
    "            im11 = np.array(Image.open(self.carpeta_imagenes + \"Gripper/\" + str(idx-1) + \".png\"))\n",
    "            im12 = np.array(Image.open(self.carpeta_imagenes + \"BehindGripper/\" + str(idx-1) + \".png\"))\n",
    "            \n",
    "            im13 = np.array(Image.open(self.carpeta_imagenes + \"Top/\" + str(idx-2) + \".png\"))\n",
    "            im14 = np.array(Image.open(self.carpeta_imagenes + \"Corner/\" + str(idx-2) + \".png\"))\n",
    "            im15 = np.array(Image.open(self.carpeta_imagenes + \"Corner2/\" + str(idx-2) + \".png\"))\n",
    "            im16 = np.array(Image.open(self.carpeta_imagenes + \"Corner3/\" + str(idx-2) + \".png\"))\n",
    "            im17 = np.array(Image.open(self.carpeta_imagenes + \"Gripper/\" + str(idx-2) + \".png\"))\n",
    "            im18 = np.array(Image.open(self.carpeta_imagenes + \"BehindGripper/\" + str(idx-2) + \".png\"))\n",
    "            \n",
    "            im19 = np.array(Image.open(self.carpeta_imagenes + \"Top/\" + str(idx-3) + \".png\"))\n",
    "            im20 = np.array(Image.open(self.carpeta_imagenes + \"Corner/\" + str(idx-3) + \".png\"))\n",
    "            im21 = np.array(Image.open(self.carpeta_imagenes + \"Corner2/\" + str(idx-3) + \".png\"))\n",
    "            im22 = np.array(Image.open(self.carpeta_imagenes + \"Corner3/\" + str(idx-3) + \".png\"))\n",
    "            im23 = np.array(Image.open(self.carpeta_imagenes + \"Gripper/\" + str(idx-3) + \".png\"))\n",
    "            im24 = np.array(Image.open(self.carpeta_imagenes + \"BehindGripper/\" + str(idx-3) + \".png\"))\n",
    "            \n",
    "            im25 = np.array(Image.open(self.carpeta_imagenes + \"Top/\" + str(idx-4) + \".png\"))\n",
    "            im26 = np.array(Image.open(self.carpeta_imagenes + \"Corner/\" + str(idx-4) + \".png\"))\n",
    "            im27 = np.array(Image.open(self.carpeta_imagenes + \"Corner2/\" + str(idx-4) + \".png\"))\n",
    "            im28 = np.array(Image.open(self.carpeta_imagenes + \"Corner3/\" + str(idx-4) + \".png\"))\n",
    "            im29 = np.array(Image.open(self.carpeta_imagenes + \"Gripper/\" + str(idx-4) + \".png\"))\n",
    "            im30 = np.array(Image.open(self.carpeta_imagenes + \"BehindGripper/\" + str(idx-4) + \".png\"))\n",
    "            \n",
    "            im31 = np.array(Image.open(self.carpeta_imagenes + \"Top/\" + str(idx-5) + \".png\"))\n",
    "            im32 = np.array(Image.open(self.carpeta_imagenes + \"Corner/\" + str(idx-5) + \".png\"))\n",
    "            im33 = np.array(Image.open(self.carpeta_imagenes + \"Corner2/\" + str(idx-5) + \".png\"))\n",
    "            im34 = np.array(Image.open(self.carpeta_imagenes + \"Corner3/\" + str(idx-5) + \".png\"))\n",
    "            im35 = np.array(Image.open(self.carpeta_imagenes + \"Gripper/\" + str(idx-5) + \".png\"))\n",
    "            im36 = np.array(Image.open(self.carpeta_imagenes + \"BehindGripper/\" + str(idx-5) + \".png\"))\n",
    "            \n",
    "            im_t = np.concatenate((im1, im2, im3, im4, im5, im6), axis=2)\n",
    "            im_prev_1 = np.concatenate((im7, im8, im9, im10, im11, im12), axis=2)\n",
    "            im_prev_2 = np.concatenate((im13, im14, im15, im16, im17, im18), axis=2)\n",
    "            im_prev_3 = np.concatenate((im19, im20, im21, im22, im23, im24), axis=2)\n",
    "            im_prev_4 = np.concatenate((im25, im26, im27, im28, im29, im30), axis=2)\n",
    "            im_prev_5 = np.concatenate((im31, im32, im33, im34, im35, im36), axis=2)\n",
    "            \n",
    "        #im_actual = np.concatenate((im1, im2, im3, im4, im5, im6), axis=2)\n",
    "        #im_previa = np.concatenate((im7, im8, im9, im10, im11, im12), axis=2)\n",
    "        #imagen = np.concatenate((im_t, im_prev_1), axis=2) # Canales = 2, Anchura = 1 -> 1,1,1...1,2\n",
    "        # Return both image and action\n",
    "        return im_t, im_prev_1, im_prev_2, im_prev_3, im_prev_4, im_prev_5, action, action_prev_1, action_prev_2, action_prev_3, action_prev_4, action_prev_5\n",
    "\n",
    "class ObsActionDataset(Dataset):\n",
    "    \"\"\"\n",
    "    PyTorch Dataset for getting the data. In this case, from ObsActionGetter object\n",
    "    \"\"\"\n",
    "    def __init__(self, obs_action_getter: ObsActionGetter, transformations: List[Callable]):\n",
    "        super(ObsActionDataset, self).__init__()\n",
    "        self.obs_action_getter = obs_action_getter\n",
    "        self.transformations = transformations\n",
    "        \n",
    "    def __len__(self):\n",
    "        return len(self.obs_action_getter)\n",
    "    \n",
    "    def __getitem__(self, idx):\n",
    "        im_t, im_prev_1, im_prev_2, im_prev_3, im_prev_4, im_prev_5, action, action_prev_1, action_prev_2, action_prev_3, action_prev_4, action_prev_5 = self.obs_action_getter[idx]\n",
    "        for t in self.transformations:\n",
    "            im_t = t(im_t)\n",
    "            im_prev_1 = t(im_prev_1)\n",
    "            im_prev_2 = t(im_prev_2)\n",
    "            im_prev_3 = t(im_prev_3)\n",
    "            im_prev_4 = t(im_prev_4)\n",
    "            im_prev_5 = t(im_prev_5)\n",
    "        # Return both image and action\n",
    "        return (im_t, im_prev_1, im_prev_2, im_prev_3, im_prev_4, im_prev_5, action_prev_1, action_prev_2, action_prev_3, action_prev_4, action_prev_5), action\n",
    "    \n",
    "class MultiImage(nn.Module):\n",
    "    def __init__(self, fe, clf, lstm, num_layers, hidden):\n",
    "        super(MultiImage, self).__init__()\n",
    "        self.fe = fe\n",
    "        self.clf = clf\n",
    "        self.avg_pool = nn.AdaptiveAvgPool2d((1,1))\n",
    "        self.flatten = nn.Flatten()\n",
    "        self.lstm = lstm\n",
    "        self.num_layers = num_layers\n",
    "        self.hidden = hidden\n",
    "        \n",
    "    def forward(self, x):\n",
    "        x1, x2, x3, x4, x5, x6, x7, x8, x9, x10, x11 = x\n",
    "        \n",
    "        #LSTM\n",
    "        f1 = self.flatten(self.avg_pool(self.fe(x1)))\n",
    "        f2 = self.flatten(self.avg_pool(self.fe(x2)))\n",
    "        f3 = self.flatten(self.avg_pool(self.fe(x3)))\n",
    "        f4 = self.flatten(self.avg_pool(self.fe(x4)))\n",
    "        f5 = self.flatten(self.avg_pool(self.fe(x5)))\n",
    "        f6 = self.flatten(self.avg_pool(self.fe(x6)))\n",
    "        \n",
    "        aux = [torch.cat((f2, x7), 1), torch.cat((f3, x8), 1), torch.cat((f4, x9), 1), torch.cat((f5, x10), 1), torch.cat((f6, x11), 1)]\n",
    "        \n",
    "        inputs = torch.zeros(len(aux), np.shape(aux[0])[0], np.shape(aux[0])[1])\n",
    "        for i in range(np.shape(inputs)[0]):\n",
    "            inputs[i] = aux[i]\n",
    "        if np.shape(aux[0])[0] == 32:\n",
    "            xlstm = self.lstm(inputs.cuda(), self.hidden)[0][-1]\n",
    "        else: \n",
    "            hidden = (torch.randn(self.num_layers, np.shape(aux[0])[0], np.shape(aux[0])[1]).cuda(), torch.randn(self.num_layers, np.shape(aux[0])[0], np.shape(aux[0])[1]).cuda())\n",
    "            xlstm = self.lstm(inputs.cuda(), hidden)[0][-1]\n",
    "        \n",
    "        xlstm = torch.squeeze(xlstm)\n",
    "        f = torch.cat((f1, xlstm), dim=1)\n",
    "        return self.clf(f)"
   ]
  },
  {
   "cell_type": "code",
   "execution_count": 25,
   "id": "0abc4508",
   "metadata": {
    "scrolled": false
   },
   "outputs": [
    {
     "name": "stdout",
     "output_type": "stream",
     "text": [
      "10500\n",
      "10500\n",
      "10500\n",
      "10500\n",
      "10500\n",
      "10500\n",
      "42000\n",
      "42000\n",
      "42000\n",
      "42000\n",
      "42000\n",
      "42000\n"
     ]
    }
   ],
   "source": [
    "print(len(fnmatch.filter(os.listdir('Test_dataset/Top'), '*.png')))\n",
    "print(len(fnmatch.filter(os.listdir('Test_dataset/Corner'), '*')))\n",
    "print(len(fnmatch.filter(os.listdir('Test_dataset/Corner2'), '*')))\n",
    "print(len(fnmatch.filter(os.listdir('Test_dataset/Corner3'), '*')))\n",
    "print(len(fnmatch.filter(os.listdir('Test_dataset/Gripper'), '*')))\n",
    "print(len(fnmatch.filter(os.listdir('Test_dataset/BehindGripper'), '*')))\n",
    "\n",
    "print(len(fnmatch.filter(os.listdir('Train_dataset/Top'), '*.png')))\n",
    "print(len(fnmatch.filter(os.listdir('Train_dataset/Corner'), '*')))\n",
    "print(len(fnmatch.filter(os.listdir('Train_dataset/Corner2'), '*')))\n",
    "print(len(fnmatch.filter(os.listdir('Train_dataset/Corner3'), '*')))\n",
    "print(len(fnmatch.filter(os.listdir('Train_dataset/Gripper'), '*')))\n",
    "print(len(fnmatch.filter(os.listdir('Train_dataset/BehindGripper'), '*')))"
   ]
  },
  {
   "cell_type": "code",
   "execution_count": 26,
   "id": "b677b009",
   "metadata": {},
   "outputs": [],
   "source": [
    "# Para mas de una imagen\n",
    "\n",
    "# Create train Dataset.\n",
    "# The ToTensor transform converts the image to Tensor in [0, 1] range and makes it channel first\n",
    "# The Normalize transform normalizes the tensor using Imagenet stats\n",
    "\n",
    "train_obs_action_getter = ObsActionGetter('Train_dataset/', 'Train_dataset/Train_Actions.csv')\n",
    "train_dataset = ObsActionDataset(train_obs_action_getter, \n",
    "                                [\n",
    "                                    transforms.ToTensor(),\n",
    "                                    transforms.Normalize((0.485, 0.456, 0.406, 0.485, 0.456, 0.406, 0.485, 0.456, 0.406, \n",
    "                                                          0.485, 0.456, 0.406, 0.485, 0.456, 0.406, 0.485, 0.456, 0.406),\n",
    "                                                         (0.229, 0.224, 0.225, 0.229, 0.224, 0.225, 0.229, 0.224, 0.225,\n",
    "                                                          0.229, 0.224, 0.225, 0.229, 0.224, 0.225, 0.229, 0.224, 0.225))\n",
    "                                ])\n",
    "\n",
    "# Create test Dataset.\n",
    "# The ToTensor transform converts the image to Tensor in [0, 1] range and makes it channel first\n",
    "# The Normalize transform normalizes the tensor using Imagenet stats\n",
    "\n",
    "test_obs_action_getter = ObsActionGetter('Test_dataset/', 'Test_dataset/Test_Actions.csv')\n",
    "test_dataset = ObsActionDataset(test_obs_action_getter, \n",
    "                                [\n",
    "                                    transforms.ToTensor(),\n",
    "                                    transforms.Normalize((0.485, 0.456, 0.406, 0.485, 0.456, 0.406, 0.485, 0.456, 0.406, \n",
    "                                                          0.485, 0.456, 0.406, 0.485, 0.456, 0.406, 0.485, 0.456, 0.406),\n",
    "                                                         (0.229, 0.224, 0.225, 0.229, 0.224, 0.225, 0.229, 0.224, 0.225,\n",
    "                                                          0.229, 0.224, 0.225, 0.229, 0.224, 0.225, 0.229, 0.224, 0.225))\n",
    "                                ])"
   ]
  },
  {
   "cell_type": "code",
   "execution_count": 27,
   "id": "7af32bd9",
   "metadata": {
    "scrolled": false
   },
   "outputs": [
    {
     "name": "stdout",
     "output_type": "stream",
     "text": [
      "42000\n",
      "1312\n",
      "10500\n",
      "329\n",
      "CPU times: user 161 ms, sys: 51.5 ms, total: 212 ms\n",
      "Wall time: 210 ms\n"
     ]
    }
   ],
   "source": [
    "%%time\n",
    "# Create loaders (class that groups examples in batches)\n",
    "# Uriz: train DataLoader should have shuffle to True\n",
    "# Uriz: test DataLoader should have drop_last to False\n",
    "# Uriz: use more workers to improve the training speed (load data in sever CPU threads). Otherwise we have a CPU -> GPU bottleneck\n",
    "train_loader = DataLoader(train_dataset, batch_size=BATCH_SIZE, shuffle=True, drop_last=True, num_workers=16)\n",
    "test_loader = DataLoader(test_dataset, batch_size=BATCH_SIZE, shuffle=False, drop_last=False, num_workers=16)\n",
    "\n",
    "print(len(train_dataset))\n",
    "print(len(train_loader))\n",
    "print(len(test_dataset))\n",
    "print(len(test_loader))"
   ]
  },
  {
   "cell_type": "code",
   "execution_count": 28,
   "id": "4a4ed374",
   "metadata": {},
   "outputs": [
    {
     "data": {
      "text/plain": [
       "'\\nfor i in range(30,34):\\n    print(\"\\nAccion Actual:\", train_obs_action_getter[i][1])\\n    print(\"Accion Previa - 1:\", train_obs_action_getter[i][2])\\n    print(\"Accion Previa - 2:\", train_obs_action_getter[i][3])\\n    print(\"Accion Previa - 3:\", train_obs_action_getter[i][4])\\n    print(\"Accion Previa - 4:\", train_obs_action_getter[i][5])\\n    print(\"Accion Previa - 5:\", train_obs_action_getter[i][6])\\n    '"
      ]
     },
     "execution_count": 28,
     "metadata": {},
     "output_type": "execute_result"
    }
   ],
   "source": [
    "'''\n",
    "for i in range(30,34):\n",
    "    print(\"\\nAccion Actual:\", train_obs_action_getter[i][1])\n",
    "    print(\"Accion Previa - 1:\", train_obs_action_getter[i][2])\n",
    "    print(\"Accion Previa - 2:\", train_obs_action_getter[i][3])\n",
    "    print(\"Accion Previa - 3:\", train_obs_action_getter[i][4])\n",
    "    print(\"Accion Previa - 4:\", train_obs_action_getter[i][5])\n",
    "    print(\"Accion Previa - 5:\", train_obs_action_getter[i][6])\n",
    "    '''"
   ]
  },
  {
   "cell_type": "code",
   "execution_count": 29,
   "id": "bba12f75",
   "metadata": {},
   "outputs": [
    {
     "name": "stdout",
     "output_type": "stream",
     "text": [
      "<torch.utils.data.dataloader._MultiProcessingDataLoaderIter object at 0x7f6efc096c90>\n"
     ]
    }
   ],
   "source": [
    "it = iter(test_loader)\n",
    "first = next(it)\n",
    "second = next(it)\n",
    "print(it)"
   ]
  },
  {
   "cell_type": "markdown",
   "id": "ed3716f2",
   "metadata": {},
   "source": [
    "\n",
    "## Model\n",
    "\n",
    "We use a pretrained ResNet18 for now. We have to remove the classifier head because it is traiend for classification with 1000 classes. We add a custom head to make regression of 7 values"
   ]
  },
  {
   "cell_type": "code",
   "execution_count": 30,
   "id": "4d898c6f",
   "metadata": {},
   "outputs": [],
   "source": [
    "# To pretrain\n",
    "model = models.resnet18(pretrained=False)\n",
    "\n",
    "# Change the first convolution\n",
    "new_conv = torch.nn.Conv2d(18, 64, kernel_size=(7, 7), stride=(2, 2), padding=(3, 3), bias=False)\n",
    "model = list(model.children())[1:]\n",
    "model = [new_conv] + model\n",
    "model = torch.nn.Sequential(*model)\n",
    "\n",
    "# Get only the feature extractor (remove avgpool and fc layers)\n",
    "fe = nn.Sequential(*list(model.children())[:-2])\n",
    "\n",
    "def freeze_all_but_bn(m):\n",
    "    \"\"\"\n",
    "    Function that set a module as no trainable (not required grad) only if it is not a BatchNorm module\n",
    "    Args:\n",
    "        m: PyTorch Module\n",
    "    \"\"\"\n",
    "    if not isinstance(m, torch.nn.modules.batchnorm._BatchNorm):\n",
    "        if hasattr(m, 'weight') and m.weight is not None:\n",
    "            m.weight.requires_grad_(False)\n",
    "        if hasattr(m, 'bias') and m.bias is not None:\n",
    "            m.bias.requires_grad_(False)\n",
    "            \n",
    "def unfreeze_all_but_bn(m):\n",
    "    \"\"\"\n",
    "    Function that set a module as no trainable (not required grad) only if it is not a BatchNorm module\n",
    "    Args:\n",
    "        m: PyTorch Module\n",
    "    \"\"\"\n",
    "    if not isinstance(m, torch.nn.modules.batchnorm._BatchNorm):\n",
    "        if hasattr(m, 'weight') and m.weight is not None:\n",
    "            m.weight.requires_grad_(True)\n",
    "        if hasattr(m, 'bias') and m.bias is not None:\n",
    "            m.bias.requires_grad_(True)\n",
    "            \n",
    "# Freeze all but BatchNorm layers of feature extractor\n",
    "# Uriz: if we use the \"normal\" ResNet use the pretained version and freeze all but BN\n",
    "#       only set all trainiable when we change the fitst convolution layer to accept images of 6 dimensions\n",
    "#       if the ResNet is pretrained and freezed the training accuracy is maintained (or increased) and the train time is dreceased\n",
    "fe.apply(freeze_all_but_bn) # Solo usar si no se preentrena la red\n",
    "\n",
    "# Create custom head\n",
    "head_clf = nn.Sequential(\n",
    "    nn.BatchNorm1d(512+512+4),\n",
    "    nn.Dropout(0.25),\n",
    "    nn.Linear(512+512+4, 512), \n",
    "    nn.ReLU(),\n",
    "    nn.BatchNorm1d(512),   \n",
    "    nn.Dropout(0.25),\n",
    "    nn.Linear(512, 4)\n",
    ")\n",
    "\n",
    "num_layers = 10\n",
    "dropout = 0.2\n",
    "bidirectional = False\n",
    "hidden = (torch.randn(num_layers, BATCH_SIZE, 512+4).cuda(), torch.randn(num_layers, BATCH_SIZE, 512+4).cuda())\n",
    "lstm = lstm = nn.LSTM(np.shape(hidden[0])[2], np.shape(hidden[0])[2], num_layers = num_layers, bidirectional = bidirectional, dropout = dropout)\n",
    "\n",
    "# Rebuild the model\n",
    "model = MultiImage(fe, head_clf, lstm, num_layers, hidden)"
   ]
  },
  {
   "cell_type": "markdown",
   "id": "1079655b",
   "metadata": {},
   "source": [
    "## Train Model"
   ]
  },
  {
   "cell_type": "code",
   "execution_count": 31,
   "id": "523eed7b",
   "metadata": {},
   "outputs": [],
   "source": [
    "# Create trainable class with Pytorch Lightinng\n",
    "class LitModel(pl.LightningModule):\n",
    "    def __init__(self, model, loss_function, total_iterations, lr):\n",
    "        \"\"\"\n",
    "        Constructor of the trainable class\n",
    "        Args:\n",
    "            model: PyTorch model\n",
    "            loss_function: The loss function to use\n",
    "            total_iterations: The total number of iterations for training (num_batches * num_epochs). Used for\n",
    "                                LR Schedule\n",
    "            lr: the max_lr to use for the OneCycleLR policy\n",
    "        \"\"\"\n",
    "        super().__init__()\n",
    "        # Store params\n",
    "        self.model = model\n",
    "        self.loss_function = loss_function\n",
    "        self.total_iterations = total_iterations\n",
    "        self.lr = lr\n",
    "        # For measure the MSE\n",
    "        self.train_mse = torchmetrics.MeanSquaredError()\n",
    "        self.valid_mse = torchmetrics.MeanSquaredError()\n",
    "\n",
    "    def forward(self, x):\n",
    "        # Forward method\n",
    "        return self.model(x)\n",
    "\n",
    "    def training_step(self, batch, batch_idx):\n",
    "        x, y = batch\n",
    "        prediction = self(x)\n",
    "        loss = self.loss_function(prediction, y)\n",
    "        # Get MSE\n",
    "        self.train_mse(prediction, y)\n",
    "        # Log loss and MSE\n",
    "        self.log(\"training_loss\", loss, on_step=True, on_epoch=True, prog_bar=True, logger=True)\n",
    "        self.log('train_mse', self.train_mse, on_step=True, on_epoch=True, prog_bar=True, logger=True)\n",
    "        # Return Loss for backward\n",
    "        return loss\n",
    "\n",
    "    def training_epoch_end(self, outs):\n",
    "        # log epoch metric\n",
    "        self.log('train_acc_epoch', self.train_mse.compute(), logger=True)\n",
    "\n",
    "    def validation_step(self, batch, batch_idx):\n",
    "        x, y = batch\n",
    "        prediction = self(x)\n",
    "        loss = self.loss_function(prediction, y)\n",
    "        # Get MSE\n",
    "        self.valid_mse(prediction, y)\n",
    "        # Log loss and MSE\n",
    "        self.log('valid_loss', loss, on_step=True, on_epoch=True, prog_bar=True, logger=True)\n",
    "        self.log('val_mse', self.valid_mse, on_epoch=True, prog_bar=True, logger=True)\n",
    "        return loss\n",
    "\n",
    "    def validation_epoch_end(self, outs):\n",
    "        # log epoch metric\n",
    "        self.log('val_acc_epoch', self.valid_mse.compute(), logger=True)\n",
    "\n",
    "    def configure_optimizers(self):\n",
    "        # Get Adam optimizer\n",
    "        optimizer = torch.optim.Adam(self.parameters(), lr=self.lr)\n",
    "        # Set OneCycleLR policy\n",
    "        lr_scheduler = {\n",
    "            'scheduler': torch.optim.lr_scheduler.OneCycleLR(optimizer, max_lr=self.lr,\n",
    "                                                             total_steps=self.total_iterations),\n",
    "            'interval': 'step', 'frequency': 1, 'name': 'lr_logger'\n",
    "        }\n",
    "        return [optimizer], [lr_scheduler]"
   ]
  },
  {
   "cell_type": "code",
   "execution_count": 32,
   "id": "f13c6abd",
   "metadata": {},
   "outputs": [],
   "source": [
    "class CallbackClass(Callback):\n",
    "    def __init__(self, what=\"epochs\", verbose=True):\n",
    "        self.what = what\n",
    "        self.verbose = verbose\n",
    "        self.state = {\"epochs\": 0}\n",
    "        \n",
    "    @property\n",
    "    def state_key(self):\n",
    "        # note: we do not include `verbose` here on purpose\n",
    "        return self._generate_state_key(what=self.what)\n",
    "\n",
    "    def on_train_epoch_end(self, *args, **kwargs):\n",
    "        e = 0\n",
    "        if self.what == \"epochs\":\n",
    "            self.state[\"epochs\"] += 1\n",
    "            \n",
    "        if self.state[\"epochs\"] >= 5:\n",
    "            for param in pl_model.parameters():\n",
    "                param.requires_grad = True # Unfreeze\n",
    "        \n",
    "        for name, param in pl_model.named_parameters():\n",
    "            if param.requires_grad:\n",
    "                e = e+1\n",
    "\n",
    "    def load_state_dict(self, state_dict):\n",
    "        self.state.update(state_dict)\n",
    "\n",
    "    def state_dict(self):\n",
    "        return self.state.copy()"
   ]
  },
  {
   "cell_type": "markdown",
   "id": "13fca76d",
   "metadata": {},
   "source": [
    "## Bucle to obtain all the info for differents Epochs"
   ]
  },
  {
   "cell_type": "code",
   "execution_count": 33,
   "id": "5878bf6e",
   "metadata": {},
   "outputs": [],
   "source": [
    "RMSE_List = []\n",
    "Model_List = []\n",
    "Prediction_List = []\n",
    "Label_List = []\n",
    "LR_List = []\n",
    "Loss_List = []"
   ]
  },
  {
   "cell_type": "code",
   "execution_count": null,
   "id": "46e07bf0",
   "metadata": {
    "scrolled": false
   },
   "outputs": [
    {
     "data": {
      "application/vnd.jupyter.widget-view+json": {
       "model_id": "c5b0bd0a50df4c098fd7c6cbfccf43d5",
       "version_major": 2,
       "version_minor": 0
      },
      "text/plain": [
       "  0%|          | 0/100 [00:00<?, ?it/s]"
      ]
     },
     "metadata": {},
     "output_type": "display_data"
    },
    {
     "name": "stdout",
     "output_type": "stream",
     "text": [
      "ERROR! Session/line number was not unique in database. History logging moved to new session 871\n",
      "Stopping early, the loss has diverged\n",
      "Learning rate search finished. See the graph with {finder_name}.plot()\n",
      "LR suggestion: steepest gradient\n",
      "Suggested LR: 2.54E-04\n"
     ]
    },
    {
     "data": {
      "image/png": "[encoded data removed]",
      "text/plain": [
       "<Figure size 432x288 with 1 Axes>"
      ]
     },
     "metadata": {
      "needs_background": "light"
     },
     "output_type": "display_data"
    },
    {
     "name": "stderr",
     "output_type": "stream",
     "text": [
      "GPU available: True, used: True\n",
      "TPU available: False, using: 0 TPU cores\n",
      "IPU available: False, using: 0 IPUs\n",
      "LOCAL_RANK: 0 - CUDA_VISIBLE_DEVICES: [1]\n",
      "\n",
      "  | Name          | Type             | Params\n",
      "---------------------------------------------------\n",
      "0 | model         | MultiImage       | 33.1 M\n",
      "1 | loss_function | MSELoss          | 0     \n",
      "2 | train_mse     | MeanSquaredError | 0     \n",
      "3 | valid_mse     | MeanSquaredError | 0     \n",
      "---------------------------------------------------\n",
      "21.9 M    Trainable params\n",
      "11.2 M    Non-trainable params\n",
      "33.1 M    Total params\n",
      "132.389   Total estimated model params size (MB)\n"
     ]
    },
    {
     "name": "stdout",
     "output_type": "stream",
     "text": [
      "0.005\n",
      "EPOCH NUMERO: 20\n"
     ]
    },
    {
     "data": {
      "application/vnd.jupyter.widget-view+json": {
       "model_id": "",
       "version_major": 2,
       "version_minor": 0
      },
      "text/plain": [
       "Validation sanity check: 0it [00:00, ?it/s]"
      ]
     },
     "metadata": {},
     "output_type": "display_data"
    },
    {
     "data": {
      "application/vnd.jupyter.widget-view+json": {
       "model_id": "d6d22b3d875348a6b6ff4bd70ce34f33",
       "version_major": 2,
       "version_minor": 0
      },
      "text/plain": [
       "Training: 0it [00:00, ?it/s]"
      ]
     },
     "metadata": {},
     "output_type": "display_data"
    },
    {
     "data": {
      "application/vnd.jupyter.widget-view+json": {
       "model_id": "",
       "version_major": 2,
       "version_minor": 0
      },
      "text/plain": [
       "Validating: 0it [00:00, ?it/s]"
      ]
     },
     "metadata": {},
     "output_type": "display_data"
    }
   ],
   "source": [
    "Epoch_List = [20]\n",
    "num = len(os.listdir(\"../../../tb_logs/my_model\"))\n",
    "for eps in Epoch_List:\n",
    "    \n",
    "    # 1 - Se genera la red\n",
    "    \n",
    "    # To pretrain\n",
    "    model = models.resnet18(pretrained=False)\n",
    "\n",
    "    # Change the first convolution\n",
    "    new_conv = torch.nn.Conv2d(18, 64, kernel_size=(7, 7), stride=(2, 2), padding=(3, 3), bias=False)\n",
    "    model = list(model.children())[1:]\n",
    "    model = [new_conv] + model\n",
    "    model = torch.nn.Sequential(*model)\n",
    "\n",
    "    # Get only the feature extractor (remove avgpool and fc layers)\n",
    "    fe = nn.Sequential(*list(model.children())[:-2])\n",
    "\n",
    "    fe.apply(freeze_all_but_bn) # Solo usar si no se preentrena la red\n",
    "\n",
    "    # Create custom head\n",
    "    head_clf = nn.Sequential(\n",
    "        nn.BatchNorm1d(512+512+4),\n",
    "        nn.Dropout(0.25),\n",
    "        nn.Linear(512+512+4, 512), \n",
    "        nn.ReLU(),\n",
    "        nn.BatchNorm1d(512),   \n",
    "        nn.Dropout(0.25),\n",
    "        nn.Linear(512, 4)\n",
    "    )\n",
    "    \n",
    "    num_layers = 10\n",
    "    dropout = 0.2\n",
    "    bidirectional = False\n",
    "    hidden = (torch.randn(num_layers, BATCH_SIZE, 512+4).cuda(), torch.randn(num_layers, BATCH_SIZE, 512+4).cuda())\n",
    "    lstm = nn.LSTM(np.shape(hidden[0])[2], np.shape(hidden[0])[2], num_layers = num_layers, bidirectional = bidirectional, dropout = dropout)\n",
    "\n",
    "    # Rebuild the model\n",
    "    model = MultiImage(fe, head_clf, lstm, num_layers, hidden)\n",
    "\n",
    "    # 2 - Se busca el mejor Learning Rate a aplicar como maximo posible\n",
    "    \n",
    "    # Loss function\n",
    "    criterion = nn.MSELoss()\n",
    "\n",
    "    # We catch the optimizer of our lit_model\n",
    "    # optimizer, lr_scheduler = pl_model.configure_optimizers()\n",
    "    optimizer = optim.Adam(model.parameters(), lr=LR)\n",
    "\n",
    "    # Learning State Finder\n",
    "    lr_finder = LRFinder(model, optimizer, criterion, device=\"cuda\")\n",
    "    lr_finder.range_test(train_loader, end_lr=1, num_iter=100, step_mode=\"exp\")\n",
    "\n",
    "    # Create trainer class\n",
    "    try:\n",
    "        BEST_LR = lr_finder.plot()[1]\n",
    "    except:\n",
    "        BEST_LR = 5.0E-03\n",
    "    print(BEST_LR)\n",
    "    \n",
    "    if BEST_LR > 0.09:\n",
    "        BEST_LR = 5.0E-03\n",
    "\n",
    "    # 3 - Se prepara el Trainer y se entrena con el modelo LitModel\n",
    "    \n",
    "    # Number of iterations for LR Schedule\n",
    "    ITERATIONS_PER_EPOCH = len(train_loader)\n",
    "    \n",
    "    logger = TensorBoardLogger(\"/home/hodei.zia/ImitAI Project/tb_logs\", name=\"my_model\")\n",
    "\n",
    "    # Create PytorchLighting model for training\n",
    "    pl_model = LitModel(model, criterion, total_iterations=ITERATIONS_PER_EPOCH * eps, lr=BEST_LR)\n",
    "\n",
    "    NUM_GPUS = 1 if torch.cuda.is_available() else 0\n",
    "        \n",
    "    numCP = len(os.listdir(\"/home/hodei.zia/ImitAI Project/Pruebas ImitAI/Dataset_Mujoco/CP3/\"))\n",
    "    \n",
    "    # Create de ModelCheckpoint\n",
    "    checkpoint_callback  = pl.callbacks.ModelCheckpoint(dirpath='CP3/CP'+str(numCP+1), \n",
    "                                                        save_top_k=-1, \n",
    "                                                        auto_insert_metric_name=True, \n",
    "                                                        every_n_epochs = 1)\n",
    "    \n",
    "    # Create trainer class\n",
    "    trainer = pl.Trainer(auto_lr_find=True, min_epochs=eps, max_epochs=eps,\n",
    "                         log_every_n_steps=1, gpus=NUM_GPUS, callbacks=[CallbackClass(what=\"epochs\"), checkpoint_callback], logger=logger)\n",
    "    #trainer = pl.Trainer(auto_lr_find=True, min_epochs=eps, max_epochs=eps,\n",
    "    #                     log_every_n_steps=1, gpus=NUM_GPUS, callbacks=[checkpoint_callback], logger=logger)\n",
    "\n",
    "    print(\"EPOCH NUMERO: \" + str(eps))\n",
    "    \n",
    "    # Train the model\n",
    "    trainer.fit(pl_model, train_loader, val_dataloaders=test_loader)\n",
    "    \n",
    "    #num = len(os.listdir(\"/home/hodei.zia/ImitAI Project/tb_logs/my_model\"))\n",
    "    erroresTrainEpoch=[]\n",
    "    erroresValEpoch=[]\n",
    "    erroresTrainStep=[]\n",
    "    erroresValStep=[]\n",
    "    \n",
    "    PATH_TB = os.listdir(\"../../../tb_logs/my_model/version_\" + str(num))[1]\n",
    "    PATH = \"/home/hodei.zia/ImitAI Project/tb_logs/my_model/version_\" + str(num) + \"/\"\n",
    "    path_to_events_file = PATH + PATH_TB\n",
    "    num = num + 1\n",
    "    \n",
    "    # Plot de LOSS \n",
    "    for e in tf.compat.v1.train.summary_iterator(path_to_events_file):\n",
    "        for v in e.summary.value:\n",
    "            if v.tag == 'training_loss_epoch':\n",
    "                erroresTrainEpoch.append(v.simple_value)\n",
    "            if v.tag == 'valid_loss_epoch':\n",
    "                erroresValEpoch.append(v.simple_value)\n",
    "\n",
    "            if v.tag == 'training_loss_step':\n",
    "                erroresTrainStep.append(v.simple_value)\n",
    "            #if v.tag == 'valid_loss_step':\n",
    "            #    erroresValStep.append(v.simple_value)\n",
    "\n",
    "    plt.plot(erroresTrainEpoch, label='Train')\n",
    "    plt.plot(erroresValEpoch, label='Validacion')\n",
    "    plt.title(\"Loss de train y validacion por epoch\")\n",
    "    plt.xlabel(\"Epoch\")\n",
    "    plt.ylim(0,0.4)\n",
    "    plt.legend()\n",
    "    plt.show()\n",
    "\n",
    "    plt.plot(erroresTrainStep, label='Train')\n",
    "    #plt.plot(erroresValStep, label='Validacion')\n",
    "    plt.title(\"Loss de train por steps\")\n",
    "    plt.xlabel(\"Step\")\n",
    "    plt.ylim(0,0.4)\n",
    "    plt.legend()\n",
    "    plt.show()\n",
    "    \n",
    "    # 4 - Se predice el resultado\n",
    "    \n",
    "    # Put model on eval mode so we change the BatchNorm and Dropout layers behaviour\n",
    "    model = model.eval()\n",
    "    # Set device (\"cuda\" or GPU if cuda is installed, otherwise in \"cpu\")\n",
    "    device = \"cuda\" if torch.cuda.is_available() else \"cpu\"\n",
    "    model = model.to(device)\n",
    "\n",
    "    # To concatenate predictions and labels\n",
    "    predictions = None\n",
    "    labels = None\n",
    "    # Surround all for not computing gradients\n",
    "    with torch.no_grad():\n",
    "        # Iterate over test dataset\n",
    "        for x, y in tqdm.notebook.tqdm(test_loader):\n",
    "            # Move to device\n",
    "            x1, x2, x3, x4, x5, x6, x7, x8, x9, x10, x11 = x\n",
    "            x1 = x1.to(device)\n",
    "            x2 = x2.to(device)\n",
    "            x3 = x3.to(device)\n",
    "            x4 = x4.to(device)\n",
    "            x5 = x5.to(device)\n",
    "            x6 = x6.to(device)\n",
    "            x7 = x7.to(device)\n",
    "            x8 = x8.to(device)\n",
    "            x9 = x9.to(device)\n",
    "            x10 = x10.to(device)\n",
    "            x11 = x11.to(device)\n",
    "            \n",
    "            # Predict\n",
    "            o = model((x1, x2, x3, x4, x5, x6, x7, x8, x9, x10, x11))\n",
    "            # Concatenate\n",
    "            if predictions is None:\n",
    "                predictions = o\n",
    "            else:\n",
    "                predictions = torch.cat((predictions, o), axis=0)\n",
    "\n",
    "            if labels is None:\n",
    "                labels = y\n",
    "            else:\n",
    "                labels = torch.cat((labels, y), axis=0)\n",
    "\n",
    "        # Move predictions to CPU and to numpy\n",
    "        predictions = predictions.detach().cpu().numpy()\n",
    "        labels = labels.detach().cpu().numpy()\n",
    "\n",
    "    mse = sklearn.metrics.mean_squared_error(labels, predictions)\n",
    "    rmse = sqrt(mse)\n",
    "    \n",
    "    print(\"El valor del error cudratico medios (MSE) es igual a \" + str(mse))\n",
    "    print(\"El valor RMSE es igual a \" + str(rmse))\n",
    "\n",
    "    # 5 - Se guardan los resultados \n",
    "    \n",
    "    RMSE_List.append(rmse)\n",
    "    Model_List.append(model)\n",
    "    Prediction_List.append(predictions)\n",
    "    Label_List.append(labels)\n",
    "    LR_List.append(BEST_LR)\n",
    "    #Loss_List.append(lr_finder.history['loss'][lr_finder.history['lr'].index(BEST_LR)])\n",
    "    \n",
    "    print(RMSE_List)"
   ]
  },
  {
   "cell_type": "code",
   "execution_count": null,
   "id": "a03b895e",
   "metadata": {
    "scrolled": false
   },
   "outputs": [],
   "source": [
    "num = len(os.listdir(\"/home/hodei.zia/ImitAI Project/tb_logs/my_model\"))\n",
    "erroresTrainEpoch=[]\n",
    "erroresValEpoch=[]\n",
    "erroresTrainStep=[]\n",
    "erroresValStep=[]\n",
    "\n",
    "PATH_TB = os.listdir(\"/home/hodei.zia/ImitAI Project/tb_logs/my_model/version_\" + str(num-1))[0]\n",
    "PATH = \"/home/hodei.zia/ImitAI Project/tb_logs/my_model/version_\" + str(num-1) + \"/\"\n",
    "path_to_events_file = PATH + PATH_TB\n",
    "\n",
    "# Plot de LOSS \n",
    "for e in tf.compat.v1.train.summary_iterator(path_to_events_file):\n",
    "    for v in e.summary.value:\n",
    "        if v.tag == 'training_loss_epoch':\n",
    "            erroresTrainEpoch.append(v.simple_value)\n",
    "        if v.tag == 'valid_loss_epoch':\n",
    "            erroresValEpoch.append(v.simple_value)\n",
    "\n",
    "        if v.tag == 'training_loss_step':\n",
    "            erroresTrainStep.append(v.simple_value)\n",
    "        #if v.tag == 'valid_loss_step':\n",
    "        #    erroresValStep.append(v.simple_value)\n",
    "\n",
    "plt.plot(erroresTrainEpoch, label='Train')\n",
    "plt.plot(erroresValEpoch, label='Validacion')\n",
    "plt.title(\"Loss de train y validacion por epoch\")\n",
    "plt.xlabel(\"Epoch\")\n",
    "plt.ylim(0,0.4)\n",
    "plt.legend()\n",
    "plt.show()\n",
    "\n",
    "plt.plot(erroresTrainStep, label='Train')\n",
    "#plt.plot(erroresValStep, label='Validacion')\n",
    "plt.title(\"Loss de train por steps\")\n",
    "plt.xlabel(\"Step\")\n",
    "plt.ylim(0,0.4)\n",
    "plt.legend()\n",
    "plt.show()"
   ]
  },
  {
   "cell_type": "code",
   "execution_count": null,
   "id": "8480d9ce",
   "metadata": {
    "scrolled": true
   },
   "outputs": [],
   "source": [
    "'''\n",
    "print(\"BEST RMSE: \" + str(min(RMSE_List)) + \" in Epoch \" + \n",
    "      str(Epoch_List[(RMSE_List.index(min(RMSE_List)))]) + \" with Batch Size = \" + str(BATCH_SIZE) + \" \\nLR = \" + \n",
    "      str(LR_List[(RMSE_List.index(min(RMSE_List)))]))\n",
    "\n",
    "# Plot de RMSE-Epoch\n",
    "plt.plot(Epoch_List, RMSE_List, color='blue', linewidth = 3, marker='o', markerfacecolor='red', markersize=12)\n",
    "plt.xlabel('Epoch')\n",
    "plt.ylabel('RMSE')\n",
    "plt.title('Evolucion del RMSE por Epochs')\n",
    "plt.show()\n",
    "\n",
    "# Plot del LR-Epoch\n",
    "plt.plot(Epoch_List, LR_List, color='blue', linewidth = 3, marker='o', markerfacecolor='red', markersize=12)\n",
    "plt.xlabel('Epoch')\n",
    "plt.ylabel('LR')\n",
    "plt.title('Evolucion del LR por Epochs')\n",
    "plt.show()\n",
    "'''"
   ]
  },
  {
   "cell_type": "markdown",
   "id": "70df1e39",
   "metadata": {},
   "source": [
    "## Print the Results"
   ]
  },
  {
   "cell_type": "code",
   "execution_count": null,
   "id": "7d96a94a",
   "metadata": {
    "scrolled": false
   },
   "outputs": [],
   "source": [
    "print(\"Num Epochs mejor prueba: \"+str(Epoch_List[RMSE_List.index(min(RMSE_List))]))\n",
    "print(\"RMSE mejor prueba: \"+str(RMSE_List[RMSE_List.index(min(RMSE_List))]))\n",
    "print(\"\")\n",
    "\n",
    "labels = Label_List[(RMSE_List.index(min(RMSE_List)))]\n",
    "predictions = Prediction_List[(RMSE_List.index(min(RMSE_List)))]\n",
    "\n",
    "# Error promedio de cada una de las articulaciones\n",
    "joint_error = np.zeros(3)\n",
    "minimo = np.zeros(3)\n",
    "maximo = np.zeros(3)\n",
    "for i in range(3):\n",
    "    joint_error[i] = sqrt(sklearn.metrics.mean_squared_error(predictions[:, i], labels[:, i]))\n",
    "    minimo[i] = min(labels[:, i])\n",
    "    maximo[i] = max(labels[:, i])\n",
    "    \n",
    "print(\"Error total por articulacion: \"+str(joint_error))\n",
    "\n",
    "ejes = [\"X\", \"Y\", \"Z\"]\n",
    "for i in range(3):\n",
    "    print(\"Eje \" + ejes[i] + \" [\" + str(round(minimo[i], 2)) + \" - \" + str(round(maximo[i], 2)) + \"] \" +\n",
    "          str(round(abs(round(minimo[i], 2) - round(maximo[i], 2)),2))\n",
    "          , str(round(joint_error[i]*100/round(abs(round(minimo[i], 2) - round(maximo[i], 2)),2),2)) + \"%\")\n",
    "    \n",
    "#MSE por demostracion\n",
    "mseDem=[]\n",
    "rmseDem=[]\n",
    "for j in range(len(pd.read_csv(\"Test_dataset/Test_Actions.csv\", index_col=0))//100-1):\n",
    "    mseDem.append(sklearn.metrics.mean_squared_error(labels[j*100:(j+1)*100], predictions[j*100:(j+1)*100]))\n",
    "    rmseDem.append(sqrt(mseDem[j]))\n",
    "    \n",
    "print(\"Los valores RMSE por demostracion son igual a \"+str(rmseDem[0:5]))\n",
    "print(\"El valor medio de RMSE es \"+str(np.mean(rmseDem)))\n",
    "print(\"El valor maximo de RMSE es \"+str(max(rmseDem))+\" y equivale a la prueba \"+str(np.argmax(rmseDem)))\n",
    "print(\"El valor minimo de RMSE es \"+str(min(rmseDem))+\" y equivale a la prueba \"+str(np.argmin(rmseDem)))\n",
    "print(\"\")\n",
    "mRMSE=sorted(rmseDem)[0:5]\n",
    "print(\"Mejores RMSE: \"+str(mRMSE))\n",
    "print(\"Mejores pruebas: \"+str(rmseDem.index(mRMSE[0]))+\", \"+str(rmseDem.index(mRMSE[1]))+\", \"+str(rmseDem.index(mRMSE[2]))+\", \"+str(rmseDem.index(mRMSE[3]))+\", \"+str(rmseDem.index(mRMSE[4])))\n",
    "print(\"Comienzan en la imagen: \"+str(rmseDem.index(mRMSE[0])*100)+\", \"+str(rmseDem.index(mRMSE[1])*100)+\", \"+str(rmseDem.index(mRMSE[2])*100)+\", \"+str(rmseDem.index(mRMSE[3])*100)+\", \"+str(rmseDem.index(mRMSE[4])*100))\n",
    "print(\"\")\n",
    "pRMSE=sorted(rmseDem,reverse=True)[0:5]\n",
    "print(\"Peores RMSE: \"+str(pRMSE))\n",
    "print(\"Peores pruebas: \"+str(rmseDem.index(pRMSE[0]))+\", \"+str(rmseDem.index(pRMSE[1]))+\", \"+str(rmseDem.index(pRMSE[2]))+\", \"+str(rmseDem.index(pRMSE[3]))+\", \"+str(rmseDem.index(pRMSE[4])))\n",
    "print(\"Comienzan en la imagen: \"+str(rmseDem.index(pRMSE[0])*100)+\", \"+str(rmseDem.index(pRMSE[1])*100)+\", \"+str(rmseDem.index(pRMSE[2])*100)+\", \"+str(rmseDem.index(pRMSE[3])*100)+\", \"+str(rmseDem.index(pRMSE[4])*100))\n",
    "print(\"\")\n",
    "\n",
    "#Ploteamos la primera prueba\n",
    "j=1\n",
    "print(\"RMSE:\",sqrt(sklearn.metrics.mean_squared_error(labels[j*100:(j+1)*100], predictions[j*100:(j+1)*100])))\n",
    "for i in range(3):\n",
    "    plt.plot(predictions[j*100:(j+1)*100, i], label='prediction')\n",
    "    plt.plot(labels[j*100:(j+1)*100, i], label='target')\n",
    "    plt.title(\"Observacion: \" + str(j) +\" - Articulacion \" + str(i+1))\n",
    "    plt.ylim(-3,3)\n",
    "    plt.legend()\n",
    "    plt.show()\n",
    "    \n",
    "#Ploteamos la peor prueba\n",
    "j=np.argmax(rmseDem)\n",
    "print(\"RMSE:\",sqrt(sklearn.metrics.mean_squared_error(labels[j*100:(j+1)*100], predictions[j*100:(j+1)*100])))\n",
    "for i in range(3):\n",
    "    plt.plot(predictions[j*100:(j+1)*100, i], label='prediction')\n",
    "    plt.plot(labels[j*100:(j+1)*100, i], label='target')\n",
    "    plt.title(\"Observacion: \" + str(j) +\" - Articulacion \" + str(i+1))\n",
    "    plt.ylim(-3,3)\n",
    "    plt.legend()\n",
    "    plt.show()\n",
    "    \n",
    "#Ploteamos la mejor prueba\n",
    "j=np.argmin(rmseDem)\n",
    "print(\"RMSE:\",sqrt(sklearn.metrics.mean_squared_error(labels[j*100:(j+1)*100], predictions[j*100:(j+1)*100])))\n",
    "for i in range(3):\n",
    "    plt.plot(predictions[j*100:(j+1)*100, i], label='prediction')\n",
    "    plt.plot(labels[j*100:(j+1)*100, i], label='target')\n",
    "    plt.title(\"Observacion: \" + str(j) +\" - Articulacion \" + str(i+1))\n",
    "    plt.ylim(-3,3)\n",
    "    plt.legend()\n",
    "    plt.show()"
   ]
  },
  {
   "cell_type": "markdown",
   "id": "64bc9740",
   "metadata": {},
   "source": [
    "## Histrogramas de RMSE por demostraciones Test"
   ]
  },
  {
   "cell_type": "code",
   "execution_count": null,
   "id": "1ee131a4",
   "metadata": {},
   "outputs": [],
   "source": [
    "plt.hist(rmseDem,np.shape(rmseDem)[0],label=\"RMSE\")\n",
    "#plt.bar(np.arange(np.shape(rmseDem)[0]),rmseDem,label=\"RMSE\")\n",
    "#plt.plot(np.arange(np.shape(rmseDem)[0]),rmseDem,label=\"RMSE\")\n",
    "plt.xlabel('RMSE')\n",
    "plt.ylabel('Demostracion')\n",
    "plt.title('Histrogrma de rangos de RMSE test')\n",
    "plt.xlim(0,0.4)\n",
    "plt.legend()\n",
    "plt.show()\n",
    "#plt.hist(rmseDem,np.shape(rmseDem)[0],label=\"RMSE\")\n",
    "plt.bar(np.arange(np.shape(rmseDem)[0]),rmseDem,label=\"RMSE\")\n",
    "#plt.plot(np.arange(np.shape(rmseDem)[0]),rmseDem,label=\"RMSE\")\n",
    "plt.xlabel('Demostracion')\n",
    "plt.ylabel('RMSE')\n",
    "plt.title('Histrogrma de RMSE por demostraciones test')\n",
    "plt.ylim(0,0.4)\n",
    "plt.legend()\n",
    "plt.show()"
   ]
  },
  {
   "cell_type": "markdown",
   "id": "6f2fd9b1",
   "metadata": {},
   "source": [
    "## Save the Results"
   ]
  },
  {
   "cell_type": "code",
   "execution_count": null,
   "id": "917d9b5b",
   "metadata": {},
   "outputs": [],
   "source": [
    "#Fecha del dia en el que se guarda el modelo\n",
    "#Nombre del modelo (en formato acordaado en abril)\n",
    "#Imagenes utilizadas\n",
    "#Acciones utilizadas\n",
    "#Batch_size\n",
    "#Numero de epochs\n",
    "#Prediccion del modelo\n",
    "#Explicaciones extras\n",
    "#RMSE\n",
    "#Errores de cada Eje\n",
    "#Accuracy en el simulador\n",
    "nueva_fila = {'Fecha': datetime.today().strftime('%Y-%m-%d'), \n",
    "              'Modelo': \"2-0123456789_32_20_Pant_ImYAcT-5-LSTMImgYAc_P_0.3852\", \n",
    "              'Imagenes': \"Hasta T-5\", \n",
    "              'Acciones': \"T-5\", \n",
    "              'Batch_size': BATCH_SIZE, \n",
    "              'Epochs': Epoch_List[0], \n",
    "              'Prediccion': \"Posicion\",\n",
    "              'Comentario': \"\",\n",
    "              'RMSE':str(round(RMSE_List[RMSE_List.index(min(RMSE_List))], 6)), \n",
    "              'EjeX':str(round(joint_error[0]*100/round(abs(round(minimo[0], 2) - round(maximo[0], 2)),2),2)) + \" %\", \n",
    "              'EjeY':str(round(joint_error[1]*100/round(abs(round(minimo[1], 2) - round(maximo[1], 2)),2),2)) + \" %\", \n",
    "              'EjeZ':str(round(joint_error[2]*100/round(abs(round(minimo[2], 2) - round(maximo[2], 2)),2),2)) + \" %\", \n",
    "              'AccSim':str(round(0/50*100,2)) + \" %\"}\n",
    "\n",
    "print(nueva_fila)"
   ]
  },
  {
   "cell_type": "code",
   "execution_count": null,
   "id": "b69720af",
   "metadata": {},
   "outputs": [],
   "source": [
    "df = pd.read_csv(\"resultados.csv\", index_col=0)\n",
    "\n",
    "df = df.append(nueva_fila, ignore_index=True)\n",
    " \n",
    "print(df)\n",
    "\n",
    "df.to_csv('resultados.csv') "
   ]
  },
  {
   "cell_type": "markdown",
   "id": "a48ee513",
   "metadata": {},
   "source": [
    "## Save the Model"
   ]
  },
  {
   "cell_type": "code",
   "execution_count": null,
   "id": "d9fc071b",
   "metadata": {},
   "outputs": [],
   "source": [
    "print(\"DATOS DEL MODELO:\")\n",
    "print(\" - Numero de Epoch: \" + str(Epoch_List[(RMSE_List.index(min(RMSE_List)))]))\n",
    "print(\" - RMSE: \" + str(min(RMSE_List)))\n",
    "torch.save(Model_List[(RMSE_List.index(min(RMSE_List)))], 'model_pytorch_03852')\n",
    "model = torch.load('model_pytorch_03852')\n",
    "model.eval()"
   ]
  },
  {
   "cell_type": "code",
   "execution_count": null,
   "id": "e2f231fd",
   "metadata": {},
   "outputs": [],
   "source": []
  }
 ],
 "metadata": {
  "kernelspec": {
   "display_name": "ImitAI",
   "language": "python",
   "name": "imitai"
  },
  "language_info": {
   "codemirror_mode": {
    "name": "ipython",
    "version": 3
   },
   "file_extension": ".py",
   "mimetype": "text/x-python",
   "name": "python",
   "nbconvert_exporter": "python",
   "pygments_lexer": "ipython3",
   "version": "3.7.11"
  }
 },
 "nbformat": 4,
 "nbformat_minor": 5
}
